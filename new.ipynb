{
 "cells": [
  {
   "cell_type": "code",
   "execution_count": 1,
   "id": "e9af2273",
   "metadata": {},
   "outputs": [
    {
     "ename": "PermissionError",
     "evalue": "[Errno 13] Permission denied: 'MP_Data_LSTM\\\\CNN_Images\\\\CNN_Images'",
     "output_type": "error",
     "traceback": [
      "\u001b[1;31m---------------------------------------------------------------------------\u001b[0m",
      "\u001b[1;31mPermissionError\u001b[0m                           Traceback (most recent call last)",
      "Cell \u001b[1;32mIn[1], line 32\u001b[0m\n\u001b[0;32m     29\u001b[0m os\u001b[38;5;241m.\u001b[39mmakedirs(output_class_path, exist_ok\u001b[38;5;241m=\u001b[39m\u001b[38;5;28;01mTrue\u001b[39;00m)\n\u001b[0;32m     31\u001b[0m \u001b[38;5;28;01mfor\u001b[39;00m file \u001b[38;5;129;01min\u001b[39;00m os\u001b[38;5;241m.\u001b[39mlistdir(class_path):\n\u001b[1;32m---> 32\u001b[0m     sequence \u001b[38;5;241m=\u001b[39m \u001b[43mnp\u001b[49m\u001b[38;5;241;43m.\u001b[39;49m\u001b[43mload\u001b[49m\u001b[43m(\u001b[49m\u001b[43mos\u001b[49m\u001b[38;5;241;43m.\u001b[39;49m\u001b[43mpath\u001b[49m\u001b[38;5;241;43m.\u001b[39;49m\u001b[43mjoin\u001b[49m\u001b[43m(\u001b[49m\u001b[43mclass_path\u001b[49m\u001b[43m,\u001b[49m\u001b[43m \u001b[49m\u001b[43mfile\u001b[49m\u001b[43m)\u001b[49m\u001b[43m)\u001b[49m\n\u001b[0;32m     34\u001b[0m     \u001b[38;5;28;01mfor\u001b[39;00m idx, frame \u001b[38;5;129;01min\u001b[39;00m \u001b[38;5;28menumerate\u001b[39m(sequence):\n\u001b[0;32m     35\u001b[0m         fig, ax \u001b[38;5;241m=\u001b[39m plt\u001b[38;5;241m.\u001b[39msubplots()\n",
      "File \u001b[1;32mc:\\Users\\WASIF TAK\\AppData\\Local\\Programs\\Python\\Python313\\Lib\\site-packages\\numpy\\lib\\_npyio_impl.py:459\u001b[0m, in \u001b[0;36mload\u001b[1;34m(file, mmap_mode, allow_pickle, fix_imports, encoding, max_header_size)\u001b[0m\n\u001b[0;32m    457\u001b[0m     own_fid \u001b[38;5;241m=\u001b[39m \u001b[38;5;28;01mFalse\u001b[39;00m\n\u001b[0;32m    458\u001b[0m \u001b[38;5;28;01melse\u001b[39;00m:\n\u001b[1;32m--> 459\u001b[0m     fid \u001b[38;5;241m=\u001b[39m stack\u001b[38;5;241m.\u001b[39menter_context(\u001b[38;5;28;43mopen\u001b[39;49m\u001b[43m(\u001b[49m\u001b[43mos\u001b[49m\u001b[38;5;241;43m.\u001b[39;49m\u001b[43mfspath\u001b[49m\u001b[43m(\u001b[49m\u001b[43mfile\u001b[49m\u001b[43m)\u001b[49m\u001b[43m,\u001b[49m\u001b[43m \u001b[49m\u001b[38;5;124;43m\"\u001b[39;49m\u001b[38;5;124;43mrb\u001b[39;49m\u001b[38;5;124;43m\"\u001b[39;49m\u001b[43m)\u001b[49m)\n\u001b[0;32m    460\u001b[0m     own_fid \u001b[38;5;241m=\u001b[39m \u001b[38;5;28;01mTrue\u001b[39;00m\n\u001b[0;32m    462\u001b[0m \u001b[38;5;66;03m# Code to distinguish from NumPy binary files and pickles.\u001b[39;00m\n",
      "\u001b[1;31mPermissionError\u001b[0m: [Errno 13] Permission denied: 'MP_Data_LSTM\\\\CNN_Images\\\\CNN_Images'"
     ]
    }
   ],
   "source": [
    "import os\n",
    "import numpy as np\n",
    "import matplotlib.pyplot as plt\n",
    "\n",
    "DATA_PATH = \"MP_Data_LSTM\"\n",
    "OUTPUT_PATH = os.path.join(DATA_PATH, \"CNN_Images\")\n",
    "os.makedirs(OUTPUT_PATH, exist_ok=True)\n",
    "\n",
    "# MediaPipe-style hand connections\n",
    "hand_connections = [\n",
    "    (0, 1), (1, 2), (2, 3), (3, 4),\n",
    "    (0, 5), (5, 6), (6, 7), (7, 8),\n",
    "    (5, 9), (9,10), (10,11), (11,12),\n",
    "    (9,13), (13,14), (14,15), (15,16),\n",
    "    (13,17), (0,17), (17,18), (18,19), (19,20)\n",
    "]\n",
    "\n",
    "def plot_hand(landmarks, ax, color='blue'):\n",
    "    for x, y, z in landmarks:\n",
    "        ax.scatter(x, y, c=color, s=10)\n",
    "    for start, end in hand_connections:\n",
    "        xs = [landmarks[start][0], landmarks[end][0]]\n",
    "        ys = [landmarks[start][1], landmarks[end][1]]\n",
    "        ax.plot(xs, ys, color=color, linewidth=1)\n",
    "\n",
    "for class_name in os.listdir(DATA_PATH):\n",
    "    class_path = os.path.join(DATA_PATH, class_name)\n",
    "    output_class_path = os.path.join(OUTPUT_PATH, class_name)\n",
    "    os.makedirs(output_class_path, exist_ok=True)\n",
    "\n",
    "    for file in os.listdir(class_path):\n",
    "        sequence = np.load(os.path.join(class_path, file))\n",
    "\n",
    "        for idx, frame in enumerate(sequence):\n",
    "            fig, ax = plt.subplots()\n",
    "            ax.axis('off')\n",
    "            ax.set_xlim(0, 1)\n",
    "            ax.set_ylim(0, 1)\n",
    "\n",
    "            left = frame[:63].reshape(21, 3)\n",
    "            right = frame[63:].reshape(21, 3)\n",
    "\n",
    "            if np.any(left):\n",
    "                plot_hand(left, ax, color='blue')\n",
    "            if np.any(right):\n",
    "                plot_hand(right, ax, color='green')\n",
    "\n",
    "            out_name = f\"{file.replace('.npy','')}_f{idx}.png\"\n",
    "            plt.savefig(os.path.join(output_class_path, out_name), bbox_inches='tight', pad_inches=0)\n",
    "            plt.close()\n"
   ]
  }
 ],
 "metadata": {
  "kernelspec": {
   "display_name": "Python 3",
   "language": "python",
   "name": "python3"
  },
  "language_info": {
   "name": "python",
   "version": "3.13.1"
  }
 },
 "nbformat": 4,
 "nbformat_minor": 5
}
